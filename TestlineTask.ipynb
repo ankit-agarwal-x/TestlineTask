{
  "nbformat": 4,
  "nbformat_minor": 0,
  "metadata": {
    "colab": {
      "provenance": []
    },
    "kernelspec": {
      "name": "python3",
      "display_name": "Python 3"
    },
    "language_info": {
      "name": "python"
    }
  },
  "cells": [
    {
      "cell_type": "code",
      "source": [
        "!pip install requests pandas numpy"
      ],
      "metadata": {
        "colab": {
          "base_uri": "https://localhost:8080/"
        },
        "id": "2jTDLdaYX4ed",
        "outputId": "4c4b2c80-156c-420e-f867-dc44eb0394f1"
      },
      "execution_count": 46,
      "outputs": [
        {
          "output_type": "stream",
          "name": "stdout",
          "text": [
            "Requirement already satisfied: requests in /usr/local/lib/python3.11/dist-packages (2.32.3)\n",
            "Requirement already satisfied: pandas in /usr/local/lib/python3.11/dist-packages (2.2.2)\n",
            "Requirement already satisfied: numpy in /usr/local/lib/python3.11/dist-packages (1.26.4)\n",
            "Requirement already satisfied: charset-normalizer<4,>=2 in /usr/local/lib/python3.11/dist-packages (from requests) (3.4.1)\n",
            "Requirement already satisfied: idna<4,>=2.5 in /usr/local/lib/python3.11/dist-packages (from requests) (3.10)\n",
            "Requirement already satisfied: urllib3<3,>=1.21.1 in /usr/local/lib/python3.11/dist-packages (from requests) (2.3.0)\n",
            "Requirement already satisfied: certifi>=2017.4.17 in /usr/local/lib/python3.11/dist-packages (from requests) (2024.12.14)\n",
            "Requirement already satisfied: python-dateutil>=2.8.2 in /usr/local/lib/python3.11/dist-packages (from pandas) (2.8.2)\n",
            "Requirement already satisfied: pytz>=2020.1 in /usr/local/lib/python3.11/dist-packages (from pandas) (2024.2)\n",
            "Requirement already satisfied: tzdata>=2022.7 in /usr/local/lib/python3.11/dist-packages (from pandas) (2024.2)\n",
            "Requirement already satisfied: six>=1.5 in /usr/local/lib/python3.11/dist-packages (from python-dateutil>=2.8.2->pandas) (1.17.0)\n"
          ]
        }
      ]
    },
    {
      "cell_type": "code",
      "source": [
        "import requests\n",
        "import pandas as pd\n",
        "import numpy as np\n",
        "import json"
      ],
      "metadata": {
        "id": "0qJW3K-xX-3c"
      },
      "execution_count": 3,
      "outputs": []
    },
    {
      "cell_type": "code",
      "source": [
        "CURRENT_QUIZ_URL = \"https://www.jsonkeeper.com/b/LLQT\"\n",
        "HISTORICAL_QUIZ_URL = \"https://api.jsonserve.com/XgAgFJ\""
      ],
      "metadata": {
        "id": "ViqJ1olZYDON"
      },
      "execution_count": 4,
      "outputs": []
    },
    {
      "cell_type": "code",
      "source": [
        "def fetch_data(url):\n",
        "    try:\n",
        "        response = requests.get(url)\n",
        "        response.raise_for_status()\n",
        "        return response.json()\n",
        "    except Exception as e:\n",
        "        print(f\"Error fetching data: {e}\")\n",
        "        return None"
      ],
      "metadata": {
        "id": "lUdW454AYGW0"
      },
      "execution_count": 5,
      "outputs": []
    },
    {
      "cell_type": "code",
      "source": [
        "current_quiz_data = fetch_data(CURRENT_QUIZ_URL)\n",
        "historical_quiz_data = fetch_data(HISTORICAL_QUIZ_URL)"
      ],
      "metadata": {
        "id": "3QEiFhRaYKDd"
      },
      "execution_count": 6,
      "outputs": []
    },
    {
      "cell_type": "code",
      "source": [
        "def calculate_overall_accuracy(quiz_history):\n",
        "    accuracies = [float(quiz.get('accuracy', '0 %').strip('%')) for quiz in quiz_history]\n",
        "    return np.mean(accuracies) if accuracies else 0\n",
        "\n",
        "def analyze_topic_performance(quiz_history):\n",
        "    topic_performances = {}\n",
        "    for quiz in quiz_history:\n",
        "        topic = quiz.get('quiz', {}).get('topic', 'Unknown')\n",
        "        accuracy = float(quiz.get('accuracy', '0 %').strip('%'))\n",
        "        topic_performances[topic] = accuracy\n",
        "    return topic_performances"
      ],
      "metadata": {
        "id": "dyiyljcDYNvO"
      },
      "execution_count": 16,
      "outputs": []
    },
    {
      "cell_type": "code",
      "source": [
        "def analyze_difficulty_performance(quiz_history):\n",
        "    difficulty_performances = {}\n",
        "    for quiz in quiz_history:\n",
        "        # Use quiz type or other available difficulty indicators\n",
        "        difficulty = quiz.get('type', 'Unknown')\n",
        "        accuracy = float(quiz.get('accuracy', '0 %').strip('%'))\n",
        "        difficulty_performances[difficulty] = accuracy\n",
        "    return difficulty_performances"
      ],
      "metadata": {
        "id": "sBUJUmRLYWef"
      },
      "execution_count": 17,
      "outputs": []
    },
    {
      "cell_type": "code",
      "source": [
        "# persona analyze metrics\n",
        "def generate_student_persona(overall_accuracy, topic_performance):\n",
        "    if overall_accuracy >= 80:\n",
        "        persona = \"The Scholar\"\n",
        "    elif overall_accuracy >= 60:\n",
        "        persona = \"The Emerging Talent\"\n",
        "    else:\n",
        "        persona = \"The Potential Learner\"\n",
        "\n",
        "    if topic_performance:\n",
        "        weakest_topic = min(topic_performance, key=topic_performance.get)\n",
        "        strongest_topic = max(topic_performance, key=topic_performance.get)\n",
        "        return f\"{persona} with strengths in {strongest_topic} and challenges in {weakest_topic}\"\n",
        "    return persona"
      ],
      "metadata": {
        "id": "TmXyp2sQYeag"
      },
      "execution_count": 18,
      "outputs": []
    },
    {
      "cell_type": "code",
      "source": [
        "def generate_recommendations(topic_performance, difficulty_breakdown, student_persona):\n",
        "    recommendations = []\n",
        "\n",
        "    if topic_performance:\n",
        "        weakest_topic = min(topic_performance, key=topic_performance.get)\n",
        "        recommendations.append(f\"Focus intensively on {weakest_topic} to improve overall performance\")\n",
        "\n",
        "    if difficulty_breakdown:\n",
        "        lowest_difficulty = min(difficulty_breakdown, key=difficulty_breakdown.get)\n",
        "        recommendations.append(f\"Practice more {lowest_difficulty} type questions to build confidence\")\n",
        "\n",
        "    if \"Scholar\" in student_persona:\n",
        "        recommendations.append(\"Explore advanced problem-solving techniques to maintain excellence\")\n",
        "    elif \"Emerging Talent\" in student_persona:\n",
        "        recommendations.append(\"Develop consistent study habits and targeted practice strategies\")\n",
        "    else:\n",
        "        recommendations.append(\"Build a structured learning plan with gradual complexity increase\")\n",
        "\n",
        "    return recommendations"
      ],
      "metadata": {
        "id": "2RVUG1dFYj4B"
      },
      "execution_count": 19,
      "outputs": []
    },
    {
      "cell_type": "code",
      "source": [
        "def analyze_performance(user_id, historical_quiz_data):\n",
        "    # this is for user's quiz history\n",
        "    user_history = [quiz for quiz in historical_quiz_data if quiz.get('user_id') == user_id]\n",
        "\n",
        "    # Check karo if empty\n",
        "    if not user_history:\n",
        "        print(f\"No quiz history found for user ID: {user_id}\")\n",
        "        return None\n",
        "\n",
        "    # Calculate metrics\n",
        "    overall_accuracy = calculate_overall_accuracy(user_history)\n",
        "    topic_performance = analyze_topic_performance(user_history)\n",
        "    difficulty_breakdown = analyze_difficulty_performance(user_history)\n",
        "\n",
        "    student_persona = generate_student_persona(overall_accuracy, topic_performance)\n",
        "    recommendations = generate_recommendations(topic_performance, difficulty_breakdown, student_persona)\n",
        "\n",
        "    return {\n",
        "        'overall_accuracy': overall_accuracy,\n",
        "        'topic_performance': topic_performance,\n",
        "        'difficulty_breakdown': difficulty_breakdown,\n",
        "        'student_persona': student_persona,\n",
        "        'recommendations': recommendations\n",
        "    }\n",
        "\n",
        "# Debug\n",
        "user_ids = set(quiz.get('user_id') for quiz in historical_quiz_data)\n",
        "print(\"Available User IDs:\", list(user_ids)[:5])\n",
        "\n",
        "# Choose a user ID from the available list\n",
        "if user_ids:\n",
        "    user_id = list(user_ids)[0]\n",
        "    analysis_results = analyze_performance(user_id, historical_quiz_data)\n",
        "\n",
        "    if analysis_results:\n",
        "        print(\"\\nQuiz Performance Analysis Results:\")\n",
        "        print(f\"User ID: {user_id}\")\n",
        "        print(f\"Overall Accuracy: {analysis_results['overall_accuracy']:.2f}%\")\n",
        "\n",
        "        print(\"\\nTopic Performance:\")\n",
        "        for topic, score in analysis_results['topic_performance'].items():\n",
        "            print(f\"{topic}: {score:.2f}%\")\n",
        "\n",
        "        print(\"\\nDifficulty Breakdown:\")\n",
        "        for difficulty, score in analysis_results['difficulty_breakdown'].items():\n",
        "            print(f\"{difficulty}: {score:.2f}%\")\n",
        "\n",
        "        print(f\"\\nStudent Persona: {analysis_results['student_persona']}\")\n",
        "\n",
        "        print(\"\\nRecommendations:\")\n",
        "        for recommendation in analysis_results['recommendations']:\n",
        "            print(f\"- {recommendation}\")\n",
        "    else:\n",
        "        print(\"Unable to generate analysis.\")\n",
        "else:\n",
        "    print(\"No user IDs found in the data.\")"
      ],
      "metadata": {
        "colab": {
          "base_uri": "https://localhost:8080/"
        },
        "id": "RYwCxoDDYlhQ",
        "outputId": "505a20c8-39da-47dd-9ead-2b10920b73d0"
      },
      "execution_count": 35,
      "outputs": [
        {
          "output_type": "stream",
          "name": "stdout",
          "text": [
            "Available User IDs: ['YcDFSO4ZukTJnnFMgRNVwZTE4j42']\n",
            "\n",
            "Quiz Performance Analysis Results:\n",
            "User ID: YcDFSO4ZukTJnnFMgRNVwZTE4j42\n",
            "Overall Accuracy: 72.21%\n",
            "\n",
            "Topic Performance:\n",
            "Body Fluids and Circulation: 31.00%\n",
            "Body Fluids and Circulation : 50.00%\n",
            "Human Reproduction: 38.00%\n",
            "principles of inheritance and variation : 30.00%\n",
            "microbes in human welfare: 100.00%\n",
            "reproductive health : 84.00%\n",
            "human health and disease : 93.00%\n",
            "Reproductive Health: 43.00%\n",
            "Respiration and Gas Exchange: 66.00%\n",
            "\n",
            "Difficulty Breakdown:\n",
            "topic: 66.00%\n",
            "\n",
            "Student Persona: The Emerging Talent with strengths in microbes in human welfare and challenges in principles of inheritance and variation \n",
            "\n",
            "Recommendations:\n",
            "- Focus intensively on principles of inheritance and variation  to improve overall performance\n",
            "- Practice more topic type questions to build confidence\n",
            "- Develop consistent study habits and targeted practice strategies\n"
          ]
        }
      ]
    },
    {
      "cell_type": "code",
      "source": [
        "# for specific quiz\n",
        "def analyze_quiz_performance(quiz_data):\n",
        "    # performance analysis\n",
        "    quiz_details = {\n",
        "        'quiz_id': quiz_data.get('id'),\n",
        "        'topic': quiz_data.get('quiz', {}).get('topic', 'Unknown'),\n",
        "        'accuracy': float(quiz_data.get('accuracy', '0 %').strip('%')),\n",
        "        'score': quiz_data.get('score', 0),\n",
        "        'correct_answers': quiz_data.get('correct_answers', 0),\n",
        "        'incorrect_answers': quiz_data.get('incorrect_answers', 0),\n",
        "        'total_questions': quiz_data.get('total_questions', 0)\n",
        "    }\n",
        "\n",
        "    insights = []\n",
        "\n",
        "    # Accuracy assessment\n",
        "    if quiz_details['accuracy'] >= 90:\n",
        "        insights.append(\"Exceptional performance\")\n",
        "    elif quiz_details['accuracy'] >= 75:\n",
        "        insights.append(\"Strong performance\")\n",
        "    elif quiz_details['accuracy'] >= 60:\n",
        "        insights.append(\"Moderate performance\")\n",
        "    else:\n",
        "        insights.append(\"Needs improvement\")\n",
        "\n",
        "    # Question breakdown\n",
        "    if quiz_details['total_questions'] > 0:\n",
        "        correct_percentage = (quiz_details['correct_answers'] / quiz_details['total_questions']) * 100\n",
        "        insights.append(f\"Correct Answers: {correct_percentage:.2f}%\")\n",
        "\n",
        "    # Response map analysis\n",
        "    response_map = quiz_data.get('response_map', {})\n",
        "    if response_map:\n",
        "        total_responses = len(response_map)\n",
        "        insights.append(f\"Total Questions Attempted: {total_responses}\")\n",
        "\n",
        "    return {\n",
        "        'quiz_details': quiz_details,\n",
        "        'insights': insights,\n",
        "        'recommendations': [\n",
        "            f\"Focus on improving performance in {quiz_details['topic']}\",\n",
        "            \"Review incorrect answers to understand knowledge gaps\",\n",
        "            \"Practice similar difficulty level questions\"\n",
        "        ]\n",
        "    }"
      ],
      "metadata": {
        "id": "ymEZl1bkcUaA"
      },
      "execution_count": 36,
      "outputs": []
    },
    {
      "cell_type": "code",
      "source": [
        "def analyze_specific_quiz(quiz_id, historical_quiz_data):\n",
        "    # Find the specific quiz\n",
        "    quiz_data = next((quiz for quiz in historical_quiz_data if quiz.get('id') == quiz_id), None)\n",
        "\n",
        "    if quiz_data:\n",
        "        analysis = analyze_quiz_performance(quiz_data)\n",
        "\n",
        "        print(\"Quiz Performance Analysis:\")\n",
        "        print(\"\\nQuiz Details:\")\n",
        "        for key, value in analysis['quiz_details'].items():\n",
        "            print(f\"{key.replace('_', ' ').title()}: {value}\")\n",
        "\n",
        "        print(\"\\nInsights:\")\n",
        "        for insight in analysis['insights']:\n",
        "            print(f\"- {insight}\")\n",
        "\n",
        "        print(\"\\nRecommendations:\")\n",
        "        for recommendation in analysis['recommendations']:\n",
        "            print(f\"- {recommendation}\")\n",
        "\n",
        "        return analysis\n",
        "    else:\n",
        "        print(f\"No quiz found with ID: {quiz_id}\")\n",
        "        return None"
      ],
      "metadata": {
        "id": "UekM7V5fcWsg"
      },
      "execution_count": 40,
      "outputs": []
    },
    {
      "cell_type": "code",
      "source": [
        "quiz_ids = [quiz.get('id') for quiz in historical_quiz_data]\n",
        "print(\"Available Quiz IDs:\", quiz_ids[:10])"
      ],
      "metadata": {
        "colab": {
          "base_uri": "https://localhost:8080/"
        },
        "id": "NOkpyjFIcewi",
        "outputId": "273d8c89-5513-450f-9e18-7e3d23124547"
      },
      "execution_count": 44,
      "outputs": [
        {
          "output_type": "stream",
          "name": "stdout",
          "text": [
            "Available Quiz IDs: [336497, 336448, 333330, 333242, 329504, 328488, 328414, 321514, 320963, 320916]\n"
          ]
        }
      ]
    },
    {
      "cell_type": "code",
      "source": [
        "if quiz_ids:\n",
        "    analyze_specific_quiz(quiz_ids[7], historical_quiz_data)"
      ],
      "metadata": {
        "colab": {
          "base_uri": "https://localhost:8080/"
        },
        "id": "a6uPlyOCcrDo",
        "outputId": "a3f43a12-46fc-49da-a2d9-5499ad9622a8"
      },
      "execution_count": 45,
      "outputs": [
        {
          "output_type": "stream",
          "name": "stdout",
          "text": [
            "Quiz Performance Analysis:\n",
            "\n",
            "Quiz Details:\n",
            "Quiz Id: 321514\n",
            "Topic: principles of inheritance and variation \n",
            "Accuracy: 30.0\n",
            "Score: 12\n",
            "Correct Answers: 3\n",
            "Incorrect Answers: 7\n",
            "Total Questions: 59\n",
            "\n",
            "Insights:\n",
            "- Needs improvement\n",
            "- Correct Answers: 5.08%\n",
            "- Total Questions Attempted: 10\n",
            "\n",
            "Recommendations:\n",
            "- Focus on improving performance in principles of inheritance and variation \n",
            "- Review incorrect answers to understand knowledge gaps\n",
            "- Practice similar difficulty level questions\n"
          ]
        }
      ]
    }
  ]
}